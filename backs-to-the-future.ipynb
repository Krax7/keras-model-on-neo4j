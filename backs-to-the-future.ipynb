{
 "cells": [
  {
   "cell_type": "code",
   "execution_count": 24,
   "metadata": {},
   "outputs": [],
   "source": [
    "import keras\n",
    "import numpy as np\n",
    "import more_itertools\n",
    "import json\n",
    "import pandas as pd\n",
    "from neo4j.v1 import GraphDatabase, Driver"
   ]
  },
  {
   "cell_type": "code",
   "execution_count": 25,
   "metadata": {},
   "outputs": [],
   "source": [
    "query = \"\"\"\n",
    "            MATCH p=\n",
    "                (u:User)\n",
    "                    -[:WROTE]->\n",
    "                (r:Review)\n",
    "                    -[:REVIEWS]->\n",
    "                (l:Listing) WHERE EXISTS(l.review_scores_value)\n",
    "            RETURN \n",
    "                u.user_id AS user,\n",
    "                l.availability_365 AS av365,\n",
    "                l.availability_90 AS av90,\n",
    "                l.availability_60 AS av60,\n",
    "                l.availability_30 AS av30,\n",
    "                l.cleaning_fee AS cleaning_fee,\n",
    "                l.security_deposit AS security_deposit,\n",
    "                l.monthly_price AS monthly_price,\n",
    "                l.weekly_price AS weekly_price,\n",
    "                l.square_feet AS square_feet,\n",
    "                l.beds AS num_beds,\n",
    "                l.bedrooms AS num_bedrooms,\n",
    "                l.bathrooms AS num_bathrooms,\n",
    "                l.accommodates AS accommodates,\n",
    "                l.price AS price,\n",
    "                CASE WHEN l.review_scores_value > 9 THEN 1 ELSE 0 END AS y;\n",
    "        \"\"\""
   ]
  },
  {
   "cell_type": "code",
   "execution_count": 26,
   "metadata": {},
   "outputs": [],
   "source": [
    "query_params = { \"dataset_name\": \"airbnb\", \"test\": False }"
   ]
  },
  {
   "cell_type": "code",
   "execution_count": 27,
   "metadata": {},
   "outputs": [],
   "source": [
    "settings = { \"neo4j_url\": \"bolt://localhost:7687\", \"neo4j_user\": \"neo4j\", \"neo4j_password\": \"1234\" }"
   ]
  },
  {
   "cell_type": "code",
   "execution_count": 28,
   "metadata": {},
   "outputs": [],
   "source": [
    "driver = GraphDatabase.driver(settings[\"neo4j_url\"], auth=(settings[\"neo4j_user\"], settings[\"neo4j_password\"]))"
   ]
  },
  {
   "cell_type": "code",
   "execution_count": 29,
   "metadata": {},
   "outputs": [],
   "source": [
    "with driver.session() as session:\n",
    "    data = session.run(query, **query_params).data()\n",
    "    data = [ (np.array([\n",
    "    i[\"user\"],\n",
    "    i[\"av365\"] if i[\"av365\"] is not None else 0,\n",
    "    i[\"av90\"] if i[\"av90\"] is not None else 0,\n",
    "    i[\"av60\"] if i[\"av60\"] is not None else 0,\n",
    "    i[\"av30\"] if i[\"av30\"] is not None else 0,\n",
    "    i[\"cleaning_fee\"] if i[\"cleaning_fee\"] is not None else 0,\n",
    "    i[\"security_deposit\"] if i[\"security_deposit\"] is not None else 0,\n",
    "    i[\"monthly_price\"] if i[\"monthly_price\"] is not None else 0,\n",
    "    i[\"weekly_price\"] if i[\"weekly_price\"] is not None else 0,\n",
    "    i[\"square_feet\"] if i[\"square_feet\"] is not None else 0,\n",
    "    i[\"num_beds\"] if i[\"num_beds\"] is not None else 0,\n",
    "    i[\"num_bedrooms\"] if i[\"num_bedrooms\"] is not None else 0,\n",
    "    i[\"accommodates\"] if i[\"accommodates\"] is not None else 0,\n",
    "    i[\"price\"] if i[\"price\"] is not None else 0\n",
    "    ]),i[\"y\"]) for i in data]\n",
    "\n",
    "    # Format our batches in the way Keras expects them:\n",
    "    # An array of tuples (x_batch, y_batch)\n",
    "\n",
    "    # An x_batch is a numpy array of shape (batch_size, 12), \n",
    "    # containing the concatenated style and style_preference vectors. \n",
    "\n",
    "    # A y_batch is a numpy array of shape (batch_size,1) containing the review scores."
   ]
  },
  {
   "cell_type": "code",
   "execution_count": 22,
   "metadata": {},
   "outputs": [
    {
     "ename": "NameError",
     "evalue": "name 'pd' is not defined",
     "output_type": "error",
     "traceback": [
      "\u001b[0;31m---------------------------------------------------------------------------\u001b[0m",
      "\u001b[0;31mNameError\u001b[0m                                 Traceback (most recent call last)",
      "\u001b[0;32m<ipython-input-22-039b238b38ef>\u001b[0m in \u001b[0;36m<module>\u001b[0;34m\u001b[0m\n\u001b[0;32m----> 1\u001b[0;31m \u001b[0mdf\u001b[0m \u001b[0;34m=\u001b[0m \u001b[0mpd\u001b[0m\u001b[0;34m.\u001b[0m\u001b[0mDataFrame\u001b[0m\u001b[0;34m(\u001b[0m\u001b[0mdata\u001b[0m\u001b[0;34m)\u001b[0m\u001b[0;34m\u001b[0m\u001b[0;34m\u001b[0m\u001b[0m\n\u001b[0m",
      "\u001b[0;31mNameError\u001b[0m: name 'pd' is not defined"
     ]
    }
   ],
   "source": [
    "df = pd.DataFrame(data)"
   ]
  }
 ],
 "metadata": {
  "kernelspec": {
   "display_name": "Python 3",
   "language": "python",
   "name": "python3"
  },
  "language_info": {
   "codemirror_mode": {
    "name": "ipython",
    "version": 3
   },
   "file_extension": ".py",
   "mimetype": "text/x-python",
   "name": "python",
   "nbconvert_exporter": "python",
   "pygments_lexer": "ipython3",
   "version": "3.7.4"
  }
 },
 "nbformat": 4,
 "nbformat_minor": 2
}
